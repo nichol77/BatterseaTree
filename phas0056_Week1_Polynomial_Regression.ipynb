{
  "nbformat": 4,
  "nbformat_minor": 0,
  "metadata": {
    "colab": {
      "provenance": [],
      "authorship_tag": "ABX9TyPWIS8mdhzU2wD4PoXP2A4u",
      "include_colab_link": true
    },
    "kernelspec": {
      "name": "python3",
      "display_name": "Python 3"
    },
    "language_info": {
      "name": "python"
    }
  },
  "cells": [
    {
      "cell_type": "markdown",
      "metadata": {
        "id": "view-in-github",
        "colab_type": "text"
      },
      "source": [
        "<a href=\"https://colab.research.google.com/github/nichol77/BatterseaTree/blob/master/phas0056_Week1_Polynomial_Regression.ipynb\" target=\"_parent\"><img src=\"https://colab.research.google.com/assets/colab-badge.svg\" alt=\"Open In Colab\"/></a>"
      ]
    },
    {
      "cell_type": "markdown",
      "source": [
        "# Polynomial regression\n",
        "\n",
        "In this homework we will be trying to illustrate some of the perils of machine learning. We will be doing this through the tried and tested starting place of looking at some problems in polynomial regression. Simply put this homework will get you to generate some data from an underlying model and try and fit various models to the data"
      ],
      "metadata": {
        "id": "Tf-lJIozCfGQ"
      }
    },
    {
      "cell_type": "code",
      "source": [
        "import numpy as np\n",
        "import matplotlib.pyplot as plt #import the pyplot library as plt\n",
        "import matplotlib.style #Some style nonsense\n",
        "import matplotlib as mpl #Some more style nonsense\n",
        "\n",
        "#Set default figure size\n",
        "#mpl.rcParams['figure.figsize'] = [12.0, 8.0] #Inches... of course it is inches\n",
        "mpl.rcParams[\"legend.frameon\"] = False\n",
        "mpl.rcParams['figure.dpi']=200 # dots per inch\n"
      ],
      "metadata": {
        "id": "a_o4D1-GCb1-"
      },
      "execution_count": null,
      "outputs": []
    }
  ]
}